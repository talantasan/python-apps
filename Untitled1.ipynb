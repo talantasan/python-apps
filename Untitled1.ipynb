{
 "cells": [
  {
   "cell_type": "code",
   "execution_count": 2,
   "id": "8ffc7626-0355-4bf5-8575-251ee4cc1fe2",
   "metadata": {
    "tags": []
   },
   "outputs": [
    {
     "name": "stdout",
     "output_type": "stream",
     "text": [
      "ID before passing: 4374032944\n",
      "ID inside the function: 4374032944\n"
     ]
    }
   ],
   "source": [
    "def testfunction(arg):\n",
    "   print (\"ID inside the function:\", id(arg))\n",
    "var=\"Hello\"\n",
    "print (\"ID before passing:\", id(var))\n",
    "testfunction(var)"
   ]
  },
  {
   "cell_type": "code",
   "execution_count": 7,
   "id": "ef8a0aa8-fe9b-4320-ac63-fc025bc4b3f4",
   "metadata": {
    "tags": []
   },
   "outputs": [
    {
     "name": "stdout",
     "output_type": "stream",
     "text": [
      "4374032944\n"
     ]
    }
   ],
   "source": [
    "print(id(\"Hello\"))"
   ]
  },
  {
   "cell_type": "code",
   "execution_count": null,
   "id": "3fb1f5ab-1e11-4961-9ac5-f8d16431330a",
   "metadata": {},
   "outputs": [],
   "source": []
  }
 ],
 "metadata": {
  "kernelspec": {
   "display_name": "Python 3 (ipykernel)",
   "language": "python",
   "name": "python3"
  },
  "language_info": {
   "codemirror_mode": {
    "name": "ipython",
    "version": 3
   },
   "file_extension": ".py",
   "mimetype": "text/x-python",
   "name": "python",
   "nbconvert_exporter": "python",
   "pygments_lexer": "ipython3",
   "version": "3.11.5"
  }
 },
 "nbformat": 4,
 "nbformat_minor": 5
}

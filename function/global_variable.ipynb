{
 "cells": [
  {
   "cell_type": "code",
   "execution_count": 5,
   "id": "77de05e3-7e5f-42f7-b295-7e7889d8359f",
   "metadata": {
    "tags": []
   },
   "outputs": [
    {
     "name": "stdout",
     "output_type": "stream",
     "text": [
      "Bishkek\n"
     ]
    }
   ],
   "source": [
    "message = \"Bishkek\"\n",
    "def greet(name):\n",
    "    message = \"Osh\"\n",
    "print(message)"
   ]
  },
  {
   "cell_type": "code",
   "execution_count": 7,
   "id": "73585785-08d6-40d3-a1a3-8239adbf0580",
   "metadata": {
    "tags": []
   },
   "outputs": [
    {
     "name": "stdout",
     "output_type": "stream",
     "text": [
      "Jalalabad\n"
     ]
    }
   ],
   "source": [
    "message = \"Jalalabad\"\n",
    "def greet(name):\n",
    "    global message\n",
    "    message = \"Batken\"\n",
    "print(message)"
   ]
  },
  {
   "cell_type": "code",
   "execution_count": null,
   "id": "d0c13c2b-67bd-4501-a224-66e60333ae8b",
   "metadata": {},
   "outputs": [],
   "source": []
  }
 ],
 "metadata": {
  "kernelspec": {
   "display_name": "Python 3 (ipykernel)",
   "language": "python",
   "name": "python3"
  },
  "language_info": {
   "codemirror_mode": {
    "name": "ipython",
    "version": 3
   },
   "file_extension": ".py",
   "mimetype": "text/x-python",
   "name": "python",
   "nbconvert_exporter": "python",
   "pygments_lexer": "ipython3",
   "version": "3.11.5"
  }
 },
 "nbformat": 4,
 "nbformat_minor": 5
}

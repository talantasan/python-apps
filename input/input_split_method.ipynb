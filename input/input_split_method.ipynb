{
 "cells": [
  {
   "cell_type": "code",
   "execution_count": 25,
   "id": "4804b404-3367-4673-b182-5753202965e1",
   "metadata": {
    "tags": []
   },
   "outputs": [],
   "source": [
    "import re, time"
   ]
  },
  {
   "cell_type": "code",
   "execution_count": 1,
   "id": "5c9fe5e1-4083-425a-ae49-ac97495a5b2c",
   "metadata": {
    "tags": []
   },
   "outputs": [
    {
     "name": "stdin",
     "output_type": "stream",
     "text": [
      "enter 3 numbers:  3 4 5\n"
     ]
    }
   ],
   "source": [
    "x, y, z = input('enter 3 numbers: ').split()"
   ]
  },
  {
   "cell_type": "code",
   "execution_count": 2,
   "id": "76423043-5cba-4f91-9264-8ce3fd416875",
   "metadata": {},
   "outputs": [
    {
     "name": "stdout",
     "output_type": "stream",
     "text": [
      "3 4 5\n"
     ]
    }
   ],
   "source": [
    "print('{} {} {}'.format(x, y, z))"
   ]
  },
  {
   "cell_type": "code",
   "execution_count": 5,
   "id": "f7caaee2-2bb5-42b0-8d3d-36e0f26f97a9",
   "metadata": {
    "tags": []
   },
   "outputs": [
    {
     "name": "stdin",
     "output_type": "stream",
     "text": [
      "Enter numbers 5 6 6 7\n"
     ]
    }
   ],
   "source": [
    "x = [int(x) for x in input('Enter numbers').split()]"
   ]
  },
  {
   "cell_type": "code",
   "execution_count": 6,
   "id": "2718a01b-399d-40e9-bf59-20d48475c88a",
   "metadata": {
    "tags": []
   },
   "outputs": [
    {
     "name": "stdout",
     "output_type": "stream",
     "text": [
      "[5, 6, 6, 7]\n"
     ]
    }
   ],
   "source": [
    "print(x)"
   ]
  },
  {
   "cell_type": "code",
   "execution_count": 7,
   "id": "78faf6f2-74e8-4ebd-b5b4-4e5a3aebdd8c",
   "metadata": {
    "tags": []
   },
   "outputs": [
    {
     "data": {
      "text/plain": [
       "6"
      ]
     },
     "execution_count": 7,
     "metadata": {},
     "output_type": "execute_result"
    }
   ],
   "source": [
    "x[1]"
   ]
  },
  {
   "cell_type": "code",
   "execution_count": 8,
   "id": "3f105fe7-aa99-4bd1-8780-66a277ce1905",
   "metadata": {
    "tags": []
   },
   "outputs": [
    {
     "name": "stdin",
     "output_type": "stream",
     "text": [
      "Enter numbers:  5 6 7\n"
     ]
    }
   ],
   "source": [
    "lst = [int(x) for x in input('Enter numbers: ').split()]"
   ]
  },
  {
   "cell_type": "code",
   "execution_count": 9,
   "id": "27c38048-7493-429f-9be0-6ca1e9da8812",
   "metadata": {
    "tags": []
   },
   "outputs": [
    {
     "data": {
      "text/plain": [
       "int"
      ]
     },
     "execution_count": 9,
     "metadata": {},
     "output_type": "execute_result"
    }
   ],
   "source": [
    "type(lst[1])"
   ]
  },
  {
   "cell_type": "code",
   "execution_count": 11,
   "id": "2b9abc79-f0cf-4998-b308-7590ae6ed203",
   "metadata": {
    "tags": []
   },
   "outputs": [
    {
     "name": "stdout",
     "output_type": "stream",
     "text": [
      "3>>>2>>>1>>>Start\n"
     ]
    }
   ],
   "source": [
    "import time\n",
    " \n",
    "count_seconds = 3\n",
    "for i in reversed(range(count_seconds + 1)):\n",
    "    if i > 0:\n",
    "        print(i, end='>>>')\n",
    "        time.sleep(1)\n",
    "    else:\n",
    "        print('Start')\n",
    "        "
   ]
  },
  {
   "cell_type": "code",
   "execution_count": 23,
   "id": "5a24095f-82e0-428b-bfba-cdbed7bbc84b",
   "metadata": {
    "tags": []
   },
   "outputs": [
    {
     "name": "stdout",
     "output_type": "stream",
     "text": [
      "3>>>2>>>1>>>Start\n"
     ]
    }
   ],
   "source": [
    "count_seconds = 3\n",
    "for i in reversed(range(count_seconds+1)):\n",
    "    if i > 0:\n",
    "        time.sleep(1)\n",
    "        print(i, end='>>>', flush=True)\n",
    "    else:\n",
    "        print('Start')"
   ]
  },
  {
   "cell_type": "code",
   "execution_count": 26,
   "id": "6d80b4a9-abf4-47e6-8deb-72ec34678093",
   "metadata": {
    "tags": []
   },
   "outputs": [],
   "source": [
    "str = 'Talant Karmyshakov'"
   ]
  },
  {
   "cell_type": "code",
   "execution_count": 27,
   "id": "f5db9ab3-4cfc-4e60-a1a3-a6e15f338831",
   "metadata": {
    "tags": []
   },
   "outputs": [],
   "source": [
    "response = re.search(r'shakov', str)"
   ]
  },
  {
   "cell_type": "code",
   "execution_count": 29,
   "id": "001f1db6-9c2c-47e7-8be4-e5e89f55be8f",
   "metadata": {
    "tags": []
   },
   "outputs": [
    {
     "name": "stdout",
     "output_type": "stream",
     "text": [
      "shakov\n"
     ]
    }
   ],
   "source": [
    "print(response.group())"
   ]
  },
  {
   "cell_type": "code",
   "execution_count": 32,
   "id": "477e4427-f152-4222-aa79-6157ed26c11e",
   "metadata": {
    "tags": []
   },
   "outputs": [],
   "source": [
    "def increment(number, by=5):\n",
    "    return number + by"
   ]
  },
  {
   "cell_type": "code",
   "execution_count": 34,
   "id": "dd269092-20c7-41bd-aa22-fefeddea9a97",
   "metadata": {
    "tags": []
   },
   "outputs": [
    {
     "name": "stdout",
     "output_type": "stream",
     "text": [
      "15\n"
     ]
    }
   ],
   "source": [
    "print(increment(10))"
   ]
  },
  {
   "cell_type": "code",
   "execution_count": 40,
   "id": "7094e286-e3c6-469b-bb09-324ed6bf5db6",
   "metadata": {
    "tags": []
   },
   "outputs": [],
   "source": [
    "# Passing multiple numbers into functions\n",
    "\n",
    "def multipl_numbers(*nums):\n",
    "    total = 1\n",
    "    for i in nums:\n",
    "        total *= i\n",
    "    return total"
   ]
  },
  {
   "cell_type": "code",
   "execution_count": 39,
   "id": "5affee64-deb3-4632-ab18-811d599abba3",
   "metadata": {
    "tags": []
   },
   "outputs": [
    {
     "name": "stdout",
     "output_type": "stream",
     "text": [
      "96\n"
     ]
    }
   ],
   "source": [
    "result = multipl_numbers(4, 3, 2, 4\n",
    "                        )\n",
    "print(result)"
   ]
  },
  {
   "cell_type": "code",
   "execution_count": 43,
   "id": "f7028249-4206-4543-ac10-a7d5403771e0",
   "metadata": {
    "tags": []
   },
   "outputs": [],
   "source": [
    "# Arguments in function\n",
    "# ** multiple key value pairs, \n",
    "def save_user(**user):\n",
    "    print(user['name'])"
   ]
  },
  {
   "cell_type": "code",
   "execution_count": 44,
   "id": "c65afebf-af52-47b9-bb83-6238e475b263",
   "metadata": {
    "tags": []
   },
   "outputs": [
    {
     "name": "stdout",
     "output_type": "stream",
     "text": [
      "Talant\n"
     ]
    }
   ],
   "source": [
    "save_user(id=1, name=\"Talant\", age=22)"
   ]
  },
  {
   "cell_type": "code",
   "execution_count": null,
   "id": "b3452432-8970-479c-9e52-ed03f6afd773",
   "metadata": {},
   "outputs": [],
   "source": []
  }
 ],
 "metadata": {
  "kernelspec": {
   "display_name": "Python 3 (ipykernel)",
   "language": "python",
   "name": "python3"
  },
  "language_info": {
   "codemirror_mode": {
    "name": "ipython",
    "version": 3
   },
   "file_extension": ".py",
   "mimetype": "text/x-python",
   "name": "python",
   "nbconvert_exporter": "python",
   "pygments_lexer": "ipython3",
   "version": "3.11.5"
  }
 },
 "nbformat": 4,
 "nbformat_minor": 5
}

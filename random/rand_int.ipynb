{
 "cells": [
  {
   "cell_type": "code",
   "execution_count": 1,
   "id": "0c41878b-fbfe-455c-ba63-b46d863932d8",
   "metadata": {
    "tags": []
   },
   "outputs": [],
   "source": [
    "import random"
   ]
  },
  {
   "cell_type": "code",
   "execution_count": 5,
   "id": "e81cfb1b-321f-42da-9b6c-bedd3284384b",
   "metadata": {
    "tags": []
   },
   "outputs": [],
   "source": [
    "x = random.randint(1, 9)"
   ]
  },
  {
   "cell_type": "code",
   "execution_count": 6,
   "id": "323be06a-bde3-41a6-b7a3-0d0526023858",
   "metadata": {
    "tags": []
   },
   "outputs": [
    {
     "name": "stdout",
     "output_type": "stream",
     "text": [
      "3\n"
     ]
    }
   ],
   "source": [
    "print(x)"
   ]
  },
  {
   "cell_type": "code",
   "execution_count": null,
   "id": "89ae403a-c12c-4730-9a5f-de97564c96ff",
   "metadata": {},
   "outputs": [],
   "source": []
  }
 ],
 "metadata": {
  "kernelspec": {
   "display_name": "Python 3 (ipykernel)",
   "language": "python",
   "name": "python3"
  },
  "language_info": {
   "codemirror_mode": {
    "name": "ipython",
    "version": 3
   },
   "file_extension": ".py",
   "mimetype": "text/x-python",
   "name": "python",
   "nbconvert_exporter": "python",
   "pygments_lexer": "ipython3",
   "version": "3.11.5"
  }
 },
 "nbformat": 4,
 "nbformat_minor": 5
}
